{
 "cells": [
  {
   "cell_type": "code",
   "execution_count": 48,
   "id": "cddcf55b",
   "metadata": {},
   "outputs": [],
   "source": [
    "import tensorflow as tf\n",
    "import numpy as np\n",
    "import matplotlib.pyplot as plt\n",
    "import pandas as pd\n",
    "%matplotlib inline"
   ]
  },
  {
   "cell_type": "code",
   "execution_count": 3,
   "id": "6dff7cf6",
   "metadata": {},
   "outputs": [],
   "source": [
    "path= \"../data/anime_names.txt\"\n",
    "with open(path , \"r\") as f:\n",
    "    names = f.read().splitlines()"
   ]
  },
  {
   "cell_type": "code",
   "execution_count": 5,
   "id": "3fe01d5c",
   "metadata": {},
   "outputs": [],
   "source": [
    "chars = sorted(list(set(\"\".join(names))))"
   ]
  },
  {
   "cell_type": "code",
   "execution_count": 6,
   "id": "c2a82b4a",
   "metadata": {},
   "outputs": [
    {
     "name": "stdout",
     "output_type": "stream",
     "text": [
      "Total names:  72776\n",
      "Total chars:  66\n",
      "Characters:  ['#', '-', '0', '1', '2', '3', '4', '5', '6', '7', '8', '9', '?', 'A', 'B', 'C', 'D', 'E', 'F', 'G', 'H', 'I', 'J', 'K', 'L', 'M', 'N', 'O', 'P', 'Q', 'R', 'S', 'T', 'U', 'V', 'W', 'X', 'Y', 'Z', '_', 'a', 'b', 'c', 'd', 'e', 'f', 'g', 'h', 'i', 'j', 'k', 'l', 'm', 'n', 'o', 'p', 'q', 'r', 's', 't', 'u', 'v', 'w', 'x', 'y', 'z']\n"
     ]
    }
   ],
   "source": [
    "print(\"Total names: \", len(names))\n",
    "print(\"Total chars: \", len(chars))\n",
    "print(\"Characters: \", chars)"
   ]
  },
  {
   "cell_type": "code",
   "execution_count": 7,
   "id": "996c1481",
   "metadata": {},
   "outputs": [
    {
     "name": "stdout",
     "output_type": "stream",
     "text": [
      "{1: '#', 2: '-', 3: '0', 4: '1', 5: '2', 6: '3', 7: '4', 8: '5', 9: '6', 10: '7', 11: '8', 12: '9', 13: '?', 14: 'A', 15: 'B', 16: 'C', 17: 'D', 18: 'E', 19: 'F', 20: 'G', 21: 'H', 22: 'I', 23: 'J', 24: 'K', 25: 'L', 26: 'M', 27: 'N', 28: 'O', 29: 'P', 30: 'Q', 31: 'R', 32: 'S', 33: 'T', 34: 'U', 35: 'V', 36: 'W', 37: 'X', 38: 'Y', 39: 'Z', 40: '_', 41: 'a', 42: 'b', 43: 'c', 44: 'd', 45: 'e', 46: 'f', 47: 'g', 48: 'h', 49: 'i', 50: 'j', 51: 'k', 52: 'l', 53: 'm', 54: 'n', 55: 'o', 56: 'p', 57: 'q', 58: 'r', 59: 's', 60: 't', 61: 'u', 62: 'v', 63: 'w', 64: 'x', 65: 'y', 66: 'z', 0: '.'}\n"
     ]
    }
   ],
   "source": [
    "str_to_idx = {c : i+1 for i , c in enumerate(chars)}\n",
    "str_to_idx[\".\"] = 0\n",
    "idx_to_str = {i : c for c , i in str_to_idx.items()}\n",
    "print(idx_to_str)"
   ]
  },
  {
   "cell_type": "code",
   "execution_count": null,
   "id": "36e5d1ea",
   "metadata": {},
   "outputs": [],
   "source": [
    "context_len = 8\n",
    "def build_dataset(names):\n",
    "    X , Y = [] , []\n",
    "    \n",
    "    for name in names:\n",
    "        context = [0] * context_len\n",
    "        for ch in name + \".\":\n",
    "            ix = str_to_idx[ch]\n",
    "            X.append(context)\n",
    "            Y.append(ix)\n",
    "            context = context[1:] + [ix]\n",
    "\n",
    "    X = tf.convert_to_tensor(X)\n",
    "    Y = tf.convert_to_tensor(Y)\n",
    "    print(\"X shape: \", X.shape)\n",
    "    print(\"Y shape: \", Y.shape)\n",
    "    return X , Y"
   ]
  },
  {
   "cell_type": "code",
   "execution_count": 10,
   "id": "d1394513",
   "metadata": {},
   "outputs": [],
   "source": [
    "import random"
   ]
  },
  {
   "cell_type": "code",
   "execution_count": 11,
   "id": "42852326",
   "metadata": {},
   "outputs": [
    {
     "name": "stdout",
     "output_type": "stream",
     "text": [
      "X shape:  (834485, 8)\n",
      "Y shape:  (834485,)\n",
      "X shape:  (104065, 8)\n",
      "Y shape:  (104065,)\n",
      "X shape:  (104276, 8)\n",
      "Y shape:  (104276,)\n"
     ]
    }
   ],
   "source": [
    "random.shuffle(names)\n",
    "n1 = int(0.8 * len(names))\n",
    "n2 = int(0.9 * len(names))\n",
    "\n",
    "Xtr , Ytr = build_dataset(names[:n1])\n",
    "Xval , Yval = build_dataset(names[n1:n2])\n",
    "Xte , Yte = build_dataset(names[n2:])"
   ]
  },
  {
   "cell_type": "code",
   "execution_count": 31,
   "id": "5269544b",
   "metadata": {},
   "outputs": [],
   "source": [
    "n_emb = 128\n",
    "n_neurons_l1 = 512\n",
    "n_neurons_l2 = 384\n",
    "n_neurons_l3 = 256\n",
    "n_neurons = n_neurons_l1 + n_neurons_l2 + n_neurons_l3\n",
    "vocab_size = len(idx_to_str) #67\n",
    "context_len = Xtr.shape[1] #8\n",
    "momentum = 0.99\n",
    "dropout = 0.2"
   ]
  },
  {
   "cell_type": "code",
   "execution_count": 32,
   "id": "033d3d5e",
   "metadata": {},
   "outputs": [],
   "source": [
    "gamma_1 = tf.Variable(tf.ones(shape=(n_neurons_l1)))\n",
    "beta_1 = tf.Variable(tf.zeros(shape=(n_neurons_l1)))\n",
    "\n",
    "gamma_2 = tf.Variable(tf.ones(shape=(n_neurons_l2)))\n",
    "beta_2 = tf.Variable(tf.zeros(shape=(n_neurons_l2)))\n",
    "\n",
    "gamma_3 = tf.Variable(tf.ones(shape=(n_neurons_l3)))\n",
    "beta_3 = tf.Variable(tf.zeros(shape=(n_neurons_l3)))"
   ]
  },
  {
   "cell_type": "code",
   "execution_count": 33,
   "id": "bcdfb197",
   "metadata": {},
   "outputs": [],
   "source": [
    "running_mean_01 = tf.Variable(tf.zeros([1, n_neurons_l1]), trainable=False)\n",
    "running_std_01 = tf.Variable(tf.ones([1, n_neurons_l1]), trainable=False)\n",
    "\n",
    "\n",
    "running_mean_02 = tf.Variable(tf.zeros([1, n_neurons_l2]), trainable=False)\n",
    "running_std_02 = tf.Variable(tf.ones([1, n_neurons_l2]), trainable=False)\n",
    "\n",
    "\n",
    "running_mean_03 = tf.Variable(tf.zeros([1, n_neurons_l3]), trainable=False)\n",
    "running_std_03 = tf.Variable(tf.ones([1, n_neurons_l3]), trainable=False)"
   ]
  },
  {
   "cell_type": "code",
   "execution_count": 34,
   "id": "e877597d",
   "metadata": {},
   "outputs": [],
   "source": [
    "seed = tf.random.set_seed(424242424)\n",
    "initializer = tf.keras.initializers.HeNormal(seed=seed)\n",
    "\n",
    "C = tf.Variable(tf.random.uniform(shape=(vocab_size , n_emb) , seed = seed))\n",
    "\n",
    "W1 = tf.Variable(initializer(shape=(n_emb*context_len , n_neurons_l1)))\n",
    "b1 = tf.Variable(tf.random.uniform(shape=[n_neurons_l1]))\n",
    "\n",
    "W2 = tf.Variable(initializer(shape=(n_neurons_l1 , n_neurons_l2)))\n",
    "b2 = tf.Variable(tf.random.uniform(shape = [n_neurons_l2]))\n",
    "\n",
    "W3 = tf.Variable(initializer(shape=(n_neurons_l2 , n_neurons_l3)))\n",
    "b3 = tf.Variable(tf.random.uniform(shape = [n_neurons_l3]))\n",
    "\n",
    "W4 = tf.Variable(initializer(shape=(n_neurons_l3 , vocab_size)))\n",
    "b4 = tf.Variable(tf.random.uniform(shape = [vocab_size]))"
   ]
  },
  {
   "cell_type": "code",
   "execution_count": 35,
   "id": "5ce4b1cc",
   "metadata": {},
   "outputs": [
    {
     "name": "stdout",
     "output_type": "stream",
     "text": [
      "Total number of parameters:  848451\n"
     ]
    }
   ],
   "source": [
    "parameters = [C , W1 , b1 , W2 , b2 , W3 , b3 , W4 , b4 , gamma_1 , beta_1 , gamma_2 , beta_2 , gamma_3 , beta_3]\n",
    "no_params = 0\n",
    "for p in parameters:\n",
    "  no_params += tf.size(p).numpy()\n",
    "\n",
    "print('Total number of parameters: ', no_params.item())"
   ]
  },
  {
   "cell_type": "code",
   "execution_count": 36,
   "id": "615490dc",
   "metadata": {},
   "outputs": [],
   "source": [
    "loss_fn = tf.keras.losses.SparseCategoricalCrossentropy(from_logits=True)"
   ]
  },
  {
   "cell_type": "code",
   "execution_count": 37,
   "id": "3740320e",
   "metadata": {},
   "outputs": [
    {
     "name": "stdout",
     "output_type": "stream",
     "text": [
      "epoch=0, loss=4.6180\n",
      "epoch=25, loss=3.0484\n",
      "epoch=50, loss=2.8201\n",
      "epoch=75, loss=2.6422\n",
      "epoch=100, loss=2.7909\n",
      "epoch=125, loss=2.3445\n",
      "epoch=150, loss=2.6836\n",
      "epoch=175, loss=2.2144\n",
      "epoch=200, loss=2.5810\n",
      "epoch=225, loss=2.1503\n",
      "epoch=250, loss=2.3875\n",
      "epoch=275, loss=2.6087\n",
      "epoch=300, loss=2.1366\n",
      "epoch=325, loss=2.7393\n",
      "epoch=350, loss=2.0921\n",
      "epoch=375, loss=2.1945\n",
      "epoch=400, loss=1.8801\n",
      "epoch=425, loss=2.2145\n",
      "epoch=450, loss=2.3487\n",
      "epoch=475, loss=2.9805\n",
      "epoch=500, loss=2.2387\n",
      "epoch=525, loss=2.3285\n",
      "epoch=550, loss=2.4074\n",
      "epoch=575, loss=2.2729\n",
      "epoch=600, loss=2.1736\n",
      "epoch=625, loss=1.9213\n",
      "epoch=650, loss=2.2843\n",
      "epoch=675, loss=1.8874\n",
      "epoch=700, loss=1.8810\n",
      "epoch=725, loss=2.3484\n",
      "epoch=750, loss=2.5088\n",
      "epoch=775, loss=1.5607\n",
      "epoch=800, loss=2.0998\n",
      "epoch=825, loss=1.8601\n",
      "epoch=850, loss=1.6415\n",
      "epoch=875, loss=1.9140\n",
      "epoch=900, loss=1.9353\n",
      "epoch=925, loss=2.4217\n",
      "epoch=950, loss=2.2955\n",
      "epoch=975, loss=2.2604\n",
      "epoch=1000, loss=2.2309\n",
      "epoch=1025, loss=1.9522\n",
      "epoch=1050, loss=2.0275\n",
      "epoch=1075, loss=2.1260\n",
      "epoch=1100, loss=1.9362\n",
      "epoch=1125, loss=2.0141\n",
      "epoch=1150, loss=1.9397\n",
      "epoch=1175, loss=1.8444\n",
      "epoch=1200, loss=2.0638\n",
      "epoch=1225, loss=2.3348\n",
      "epoch=1250, loss=2.2735\n",
      "epoch=1275, loss=1.9938\n",
      "epoch=1300, loss=2.5083\n",
      "epoch=1325, loss=1.9930\n",
      "epoch=1350, loss=2.1603\n",
      "epoch=1375, loss=2.0273\n",
      "epoch=1400, loss=1.8372\n",
      "epoch=1425, loss=1.9582\n",
      "epoch=1450, loss=1.9076\n",
      "epoch=1475, loss=1.8622\n",
      "epoch=1500, loss=2.0862\n",
      "epoch=1525, loss=1.7677\n",
      "epoch=1550, loss=2.2721\n",
      "epoch=1575, loss=1.4472\n",
      "epoch=1600, loss=1.9475\n",
      "epoch=1625, loss=2.0259\n",
      "epoch=1650, loss=1.8695\n",
      "epoch=1675, loss=1.8176\n",
      "epoch=1700, loss=1.9789\n",
      "epoch=1725, loss=1.7524\n",
      "epoch=1750, loss=1.8713\n",
      "epoch=1775, loss=2.3429\n",
      "epoch=1800, loss=1.6357\n",
      "epoch=1825, loss=1.9982\n",
      "epoch=1850, loss=1.7254\n",
      "epoch=1875, loss=1.9011\n",
      "epoch=1900, loss=1.9685\n",
      "epoch=1925, loss=2.1914\n",
      "epoch=1950, loss=1.6816\n",
      "epoch=1975, loss=1.6120\n",
      "epoch=2000, loss=2.0976\n",
      "epoch=2025, loss=1.7246\n",
      "epoch=2050, loss=1.6255\n",
      "epoch=2075, loss=2.1245\n",
      "epoch=2100, loss=1.8625\n",
      "epoch=2125, loss=1.7086\n",
      "epoch=2150, loss=1.6912\n",
      "epoch=2175, loss=2.0316\n",
      "epoch=2200, loss=2.1919\n",
      "epoch=2225, loss=1.7958\n",
      "epoch=2250, loss=1.9995\n",
      "epoch=2275, loss=2.0511\n",
      "epoch=2300, loss=1.8227\n",
      "epoch=2325, loss=2.0875\n",
      "epoch=2350, loss=2.0084\n",
      "epoch=2375, loss=1.7517\n",
      "epoch=2400, loss=1.6082\n",
      "epoch=2425, loss=2.4349\n",
      "epoch=2450, loss=2.1197\n",
      "epoch=2475, loss=1.7539\n",
      "epoch=2500, loss=1.8575\n",
      "epoch=2525, loss=1.7202\n",
      "epoch=2550, loss=1.6404\n",
      "epoch=2575, loss=2.2991\n",
      "epoch=2600, loss=1.8995\n",
      "epoch=2625, loss=2.2105\n",
      "epoch=2650, loss=2.1096\n",
      "epoch=2675, loss=1.5311\n",
      "epoch=2700, loss=2.0369\n",
      "epoch=2725, loss=1.5735\n",
      "epoch=2750, loss=1.7976\n",
      "epoch=2775, loss=2.1811\n",
      "epoch=2800, loss=1.6869\n",
      "epoch=2825, loss=1.9070\n",
      "epoch=2850, loss=2.2619\n",
      "epoch=2875, loss=2.0476\n",
      "epoch=2900, loss=1.7441\n",
      "epoch=2925, loss=1.9376\n",
      "epoch=2950, loss=2.1954\n",
      "epoch=2975, loss=2.0910\n",
      "epoch=3000, loss=2.1832\n",
      "epoch=3025, loss=1.9804\n",
      "epoch=3050, loss=2.0601\n",
      "epoch=3075, loss=1.7071\n",
      "epoch=3100, loss=2.0642\n",
      "epoch=3125, loss=1.9620\n",
      "epoch=3150, loss=1.9373\n",
      "epoch=3175, loss=1.5527\n",
      "epoch=3200, loss=1.5724\n",
      "epoch=3225, loss=1.7960\n",
      "epoch=3250, loss=2.0317\n",
      "epoch=3275, loss=1.8754\n",
      "epoch=3300, loss=1.7603\n",
      "epoch=3325, loss=1.7995\n",
      "epoch=3350, loss=2.1592\n",
      "epoch=3375, loss=2.4387\n",
      "epoch=3400, loss=1.9684\n",
      "epoch=3425, loss=1.8292\n",
      "epoch=3450, loss=1.7854\n",
      "epoch=3475, loss=2.0088\n",
      "epoch=3500, loss=1.6028\n",
      "epoch=3525, loss=1.7653\n",
      "epoch=3550, loss=1.5185\n",
      "epoch=3575, loss=2.1475\n",
      "epoch=3600, loss=2.1709\n",
      "epoch=3625, loss=1.8063\n",
      "epoch=3650, loss=2.1387\n",
      "epoch=3675, loss=1.7351\n",
      "epoch=3700, loss=2.3444\n",
      "epoch=3725, loss=2.1556\n",
      "epoch=3750, loss=1.9645\n",
      "epoch=3775, loss=1.8341\n",
      "epoch=3800, loss=1.8458\n",
      "epoch=3825, loss=2.1395\n",
      "epoch=3850, loss=2.0878\n",
      "epoch=3875, loss=1.9681\n",
      "epoch=3900, loss=2.1303\n",
      "epoch=3925, loss=1.8928\n",
      "epoch=3950, loss=1.5307\n",
      "epoch=3975, loss=1.9666\n",
      "epoch=4000, loss=2.0869\n",
      "epoch=4025, loss=2.3948\n",
      "epoch=4050, loss=2.4129\n",
      "epoch=4075, loss=2.0386\n",
      "epoch=4100, loss=1.3211\n",
      "epoch=4125, loss=1.8734\n",
      "epoch=4150, loss=1.7753\n",
      "epoch=4175, loss=2.1890\n",
      "epoch=4200, loss=1.6241\n",
      "epoch=4225, loss=1.6952\n",
      "epoch=4250, loss=1.6923\n",
      "epoch=4275, loss=2.1508\n",
      "epoch=4300, loss=1.8531\n",
      "epoch=4325, loss=1.6893\n",
      "epoch=4350, loss=2.2799\n",
      "epoch=4375, loss=1.7575\n",
      "epoch=4400, loss=2.4198\n",
      "epoch=4425, loss=1.8916\n",
      "epoch=4450, loss=1.7369\n",
      "epoch=4475, loss=1.7769\n",
      "epoch=4500, loss=1.7989\n",
      "epoch=4525, loss=1.4621\n",
      "epoch=4550, loss=2.0779\n",
      "epoch=4575, loss=2.0665\n",
      "epoch=4600, loss=1.9431\n",
      "epoch=4625, loss=2.0172\n",
      "epoch=4650, loss=1.5647\n",
      "epoch=4675, loss=1.8400\n",
      "epoch=4700, loss=1.6192\n",
      "epoch=4725, loss=1.9032\n",
      "epoch=4750, loss=1.9811\n",
      "epoch=4775, loss=1.6407\n",
      "epoch=4800, loss=2.2858\n",
      "epoch=4825, loss=2.0760\n",
      "epoch=4850, loss=1.7332\n",
      "epoch=4875, loss=1.6385\n",
      "epoch=4900, loss=1.6101\n",
      "epoch=4925, loss=2.0034\n",
      "epoch=4950, loss=1.9025\n",
      "epoch=4975, loss=2.0776\n"
     ]
    }
   ],
   "source": [
    "num_epochs = 5000\n",
    "learning_rate = 0.001\n",
    "losses = []\n",
    "batch_size = 32\n",
    "\n",
    "optimizer = tf.keras.optimizers.Adam(learning_rate=learning_rate)\n",
    "\n",
    "for epoch in range(num_epochs):\n",
    "    ix = tf.keras.random.randint(shape = (batch_size,) , minval=0 , maxval=Xtr.shape[0] , seed = seed)\n",
    "    Xb, Yb = tf.gather(Xtr , ix) , tf.gather(Ytr , ix) # batch X,Y\n",
    "\n",
    "    with tf.GradientTape() as tape:\n",
    "        # Embedding and reshape\n",
    "        emb = tf.gather(C, Xb)  # [batch, block_size, embedding_dim]\n",
    "        x1 = tf.reshape(emb, shape=(-1, n_emb * context_len))\n",
    "\n",
    "        # Layer 1 linear transformation\n",
    "        x1 = x1 @ W1 + b1\n",
    "\n",
    "        # BatchNorm1\n",
    "        mean1 = tf.reduce_mean(x1, axis=0, keepdims=True)\n",
    "        std1 = tf.math.reduce_std(x1, axis=0, keepdims=True)\n",
    "        x1 = (x1 - mean1) / tf.sqrt(std1 + 1e-5)\n",
    "        x1 = x1 * gamma_1 + beta_1\n",
    "\n",
    "        # Activation\n",
    "        h1 = tf.keras.activations.gelu(x1)\n",
    "\n",
    "        # Layer 2\n",
    "        x2 = h1 @ W2 + b2\n",
    "\n",
    "        # BatchNorm2\n",
    "        mean2 = tf.reduce_mean(x2, axis=0, keepdims=True)\n",
    "        std2 = tf.math.reduce_std(x2, axis=0, keepdims=True)\n",
    "        x2 = (x2 - mean2) / tf.sqrt(std2 + 1e-5)\n",
    "        x2 = x2 * gamma_2 + beta_2\n",
    "\n",
    "        # Activation\n",
    "        h2 = tf.keras.activations.gelu(x2)\n",
    "\n",
    "        # Layer 3\n",
    "        x3 = h2 @ W3 + b3\n",
    "\n",
    "        # BatchNorm 3\n",
    "        mean3 = tf.reduce_mean(x3, axis=0, keepdims=True)\n",
    "        std3 = tf.math.reduce_std(x3, axis=0, keepdims=True)\n",
    "        x3 = (x3 - mean3) / tf.sqrt(std3 + 1e-5)\n",
    "        x3 = x3 * gamma_3 + beta_3\n",
    "\n",
    "        # Activation\n",
    "        h3 = tf.keras.activations.gelu(x3)\n",
    "\n",
    "        # Output layer\n",
    "        logits = h3 @ W4 + b4\n",
    "\n",
    "        # Loss\n",
    "        loss = loss_fn(tf.reshape(Yb, [-1]), logits)\n",
    "\n",
    "    # Update running statistics (outside the tape)\n",
    "    running_mean_01.assign(momentum * running_mean_01 + (1. - momentum) * mean1)\n",
    "    running_std_01.assign(momentum * running_std_01 + (1. - momentum) * std1)\n",
    "    running_mean_02.assign(momentum * running_mean_02 + (1. - momentum) * mean2)\n",
    "    running_std_02.assign(momentum * running_std_02 + (1. - momentum) * std2)\n",
    "    running_mean_03.assign(momentum * running_mean_03 + (1. - momentum) * mean3)\n",
    "    running_std_03.assign(momentum * running_std_03 + (1. - momentum) * std3)\n",
    "\n",
    "    # Backprop\n",
    "    grads = tape.gradient(loss, parameters)\n",
    "    optimizer.apply_gradients(zip(grads, parameters))\n",
    "\n",
    "    losses.append(loss.numpy())\n",
    "\n",
    "    if epoch % 25 == 0:\n",
    "        print(f\"epoch={epoch}, loss={loss.numpy():.4f}\")"
   ]
  },
  {
   "cell_type": "code",
   "execution_count": 45,
   "id": "5fabfc18",
   "metadata": {},
   "outputs": [
    {
     "data": {
      "image/png": "[encoded data removed]",
      "text/plain": [
       "<Figure size 800x500 with 1 Axes>"
      ]
     },
     "metadata": {},
     "output_type": "display_data"
    }
   ],
   "source": [
    "plt.figure(figsize=(8, 5))\n",
    "plt.plot(range(0, num_epochs, 100), [losses[i] for i in range(0, num_epochs, 100)], marker='o')\n",
    "plt.xlabel('Epoch')\n",
    "plt.ylabel('Loss')\n",
    "plt.title('Training Loss vs Epoch (every 100 epochs) 0.84M params model')\n",
    "plt.xticks(np.arange(0, num_epochs+1, 500))\n",
    "plt.grid(True)\n",
    "plt.show()"
   ]
  },
  {
   "cell_type": "code",
   "execution_count": 46,
   "id": "8117f057",
   "metadata": {},
   "outputs": [
    {
     "name": "stdout",
     "output_type": "stream",
     "text": [
      "Traning loss:  1.8920989036560059\n"
     ]
    }
   ],
   "source": [
    "print(\"Traning loss: \",losses[-1].item())"
   ]
  },
  {
   "cell_type": "code",
   "execution_count": 47,
   "id": "b0206b96",
   "metadata": {},
   "outputs": [
    {
     "name": "stdout",
     "output_type": "stream",
     "text": [
      "Validation loss:  1.8731571435928345\n"
     ]
    }
   ],
   "source": [
    "emb = tf.gather(C,Xval) # [batch, block_size, embedding_dim]\n",
    "x1 = tf.reshape(emb, shape=(-1, n_emb * context_len))\n",
    "x1 = x1 @ W1 + b1\n",
    "x1 = (x1 - running_mean_01) / tf.sqrt(running_std_01 + 1e-5)\n",
    "x1 = x1 * gamma_1 + beta_1\n",
    "h1 = tf.keras.activations.gelu(x1)\n",
    "\n",
    "x2 = h1 @ W2 + b2\n",
    "x2 = (x2 - running_mean_02) / tf.sqrt(running_std_02 + 1e-5)\n",
    "x2 = x2 * gamma_2 + beta_2\n",
    "h2 = tf.keras.activations.gelu(x2)\n",
    "\n",
    "x3 = h2 @ W3 + b3\n",
    "x3 = (x3 - running_mean_03) / tf.sqrt(running_std_03 + 1e-5)\n",
    "x3 = x3 * gamma_3 + beta_3\n",
    "h3 = tf.keras.activations.gelu(x3)\n",
    "\n",
    "logits = h3 @ W4 + b4\n",
    "loss = loss_fn(tf.reshape(Yval, [-1]), logits)\n",
    "print(\"Validation loss: \",loss.numpy().item())"
   ]
  },
  {
   "cell_type": "code",
   "execution_count": 56,
   "id": "b1c4896c",
   "metadata": {},
   "outputs": [
    {
     "name": "stdout",
     "output_type": "stream",
     "text": [
      "Model saved at: ../checkpoints/checkpoints_84/anime_names-1\n"
     ]
    }
   ],
   "source": [
    "\n",
    "checkpoint = tf.train.Checkpoint(\n",
    "    C = C , W1 = W1 , b1 = b1 , W2 = W2 , b2 = b2 , W3 = W3 , b3 = b3 , W4 = W4 , b4 = b4 , gamma_1 = gamma_1 , beta_1 = beta_1 , gamma_2 = gamma_2 , beta_2 = beta_2 , gamma_3 = gamma_3 , beta_3 = beta_3 ,\n",
    "    running_mean_01 = running_mean_01 , running_std_01 = running_std_01 , running_mean_02 = running_mean_02 , running_std_02 = running_std_02 , running_mean_03 = running_mean_03 , running_std_03 = running_std_03 ,\n",
    "    \n",
    ")\n",
    "\n",
    "save_path = checkpoint.save(\"../checkpoints/checkpoints_84/anime_names\")\n",
    "print(f\"Model saved at: {save_path}\")"
   ]
  },
  {
   "cell_type": "code",
   "execution_count": 59,
   "id": "5a3a0570",
   "metadata": {},
   "outputs": [
    {
     "name": "stdout",
     "output_type": "stream",
     "text": [
      "Default sampling:\n",
      "- Touko_Kozenjou_Fujiya\n",
      "- Sayoyu_Eishizushibo\n",
      "- Ryouo_Shilattiniha\n",
      "- Angeri_Volf\n",
      "- Arsus_Chigasa\n",
      "\n",
      "More creative sampling (higher temperature):\n",
      "- Clangersha_Nowagura\n",
      "- Inua__Harmar\n",
      "- Yu_Geotsu\n",
      "- Taena_Tomouda\n",
      "- Marnka_Saekami\n",
      "\n",
      "More focused sampling (with top-k):\n",
      "- Youta_Shiroujou\n",
      "- Yuki_Hiyaki\n",
      "- Yuuya_Sourta\n",
      "- Kirone_Makishima\n",
      "- Aya_Kyouda\n"
     ]
    }
   ],
   "source": [
    "def generate_names(num_names=10, temperature=1.0, top_k=None):\n",
    "    \n",
    "    generated_names = []\n",
    "    block_size = 8  # Same as training context length\n",
    "    \n",
    "    for _ in range(num_names):\n",
    "        out = []\n",
    "        context = [0] * block_size  # Initialize with padding\n",
    "        \n",
    "        while True:\n",
    "            # Get embeddings for current context\n",
    "            emb = tf.gather(C , tf.constant([context] , dtype=tf.int32)) \n",
    "            x1 = tf.reshape(emb, shape=(-1, n_emb * block_size))\n",
    "            x1 = x1 @ W1 + b1\n",
    "            x1 = (x1 - running_mean_01) / tf.sqrt(running_std_01 + 1e-5)\n",
    "            x1 = x1 * gamma_1 + beta_1\n",
    "            h1 = tf.keras.activations.gelu(x1)\n",
    "            x2 = h1 @ W2 + b2\n",
    "            x2 = (x2 - running_mean_02) / tf.sqrt(running_std_02 + 1e-5)\n",
    "            x2 = x2 * gamma_2 + beta_2\n",
    "            h2 = tf.keras.activations.gelu(x2)\n",
    "            x3 = h2 @ W3 + b3\n",
    "            x3 = (x3 - running_mean_03) / tf.sqrt(running_std_03 + 1e-5)\n",
    "            x3 = x3 * gamma_3 + beta_3\n",
    "            h3 = tf.keras.activations.gelu(x3)\n",
    "            logits = tf.matmul(h3, W4) + b4 \n",
    "            \n",
    "            # Apply temperature\n",
    "            logits = logits / temperature\n",
    "            \n",
    "            # Optional top-k sampling\n",
    "            if top_k is not None:\n",
    "                v, _ = tf.nn.top_k(logits, k=top_k)\n",
    "                min_value = v[:, -1:]\n",
    "                logits = tf.where(logits < min_value, \n",
    "                                tf.ones_like(logits) * -1e10, \n",
    "                                logits)\n",
    "            \n",
    "            # Get probabilities and sample\n",
    "            probs = tf.nn.softmax(logits, axis=1)\n",
    "            ix = tf.random.categorical(tf.math.log(probs), num_samples=1)[0, 0].numpy()\n",
    "            \n",
    "            # Update context and output\n",
    "            context = context[1:] + [ix]\n",
    "            out.append(ix)\n",
    "            \n",
    "            # Break if we hit the end token (0) or name gets too long\n",
    "            if ix == 0 or len(out) > 40:\n",
    "                break\n",
    "        \n",
    "        name = ''.join(idx_to_str[i] for i in out).replace('.', '')\n",
    "        generated_names.append(name)\n",
    "    \n",
    "    return generated_names\n",
    "\n",
    "# Generate some example names with different settings\n",
    "print(\"Default sampling:\")\n",
    "names = generate_names(num_names=5)\n",
    "for name in names:\n",
    "    print(f\"- {name}\")\n",
    "\n",
    "print(\"\\nMore creative sampling (higher temperature):\")\n",
    "names = generate_names(num_names=5, temperature=1.2)\n",
    "for name in names:\n",
    "    print(f\"- {name}\")\n",
    "\n",
    "print(\"\\nMore focused sampling (with top-k):\")\n",
    "names = generate_names(num_names=5, temperature=0.8, top_k=10)\n",
    "for name in names:\n",
    "    print(f\"- {name}\")"
   ]
  },
  {
   "cell_type": "code",
   "execution_count": null,
   "id": "f5b65808",
   "metadata": {},
   "outputs": [],
   "source": [
    "# df = pd.DataFrame(names, columns=[\"Generated_Name\"])\n",
    "# df.to_csv(\"../samples/generated_names.csv\", index=False)"
   ]
  }
 ],
 "metadata": {
  "kernelspec": {
   "display_name": "venv",
   "language": "python",
   "name": "python3"
  },
  "language_info": {
   "codemirror_mode": {
    "name": "ipython",
    "version": 3
   },
   "file_extension": ".py",
   "mimetype": "text/x-python",
   "name": "python",
   "nbconvert_exporter": "python",
   "pygments_lexer": "ipython3",
   "version": "3.12.7"
  }
 },
 "nbformat": 4,
 "nbformat_minor": 5
}
